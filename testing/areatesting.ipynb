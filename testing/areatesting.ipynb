{
 "cells": [
  {
   "cell_type": "code",
   "execution_count": 1,
   "metadata": {},
   "outputs": [],
   "source": [
    "import sys\n",
    "import os\n",
    "import csv\n",
    "from shapely.geometry import Point, Polygon \n",
    "sys.path.append(os.path.abspath(\"C:/Users/valen/OneDrive/Escritorio/Bony/Di tella/TD8FINAL/TD8_ProyectoFinal/\"))\n",
    "from heuristicas.grid_heuristic import grid_heuristic, solve\n",
    "from lectura_and_analisis.xml_parsing import xml_data_extractor\n",
    "from lectura_and_analisis.analisis import calculate_area\n",
    "from lectura_and_analisis.generacion_mapa import fun_generacion_mapa\n",
    "from lectura_and_analisis.optimization_functions import change_dimensions, optimize_area"
   ]
  },
  {
   "cell_type": "code",
   "execution_count": 2,
   "metadata": {},
   "outputs": [],
   "source": [
    "file_path_bony = 'C:/Users/valen/OneDrive/Escritorio/Bony/Di tella/TD8FINAL/TD8_ProyectoFinal/mapas/pol.01.xml'\n",
    "polygon, panel_size, restrictions , angulo = xml_data_extractor(file_path_bony)"
   ]
  },
  {
   "cell_type": "code",
   "execution_count": 54,
   "metadata": {},
   "outputs": [
    {
     "name": "stdout",
     "output_type": "stream",
     "text": [
      "1279.5\n",
      "0.7581086361860102\n"
     ]
    }
   ],
   "source": [
    "area_polygon = Polygon(polygon)\n",
    "total_area = area_polygon.area\n",
    "print(total_area)\n",
    "\n",
    "area_covered = 0.97 * 1000\n",
    "print(area_covered/total_area)"
   ]
  },
  {
   "cell_type": "code",
   "execution_count": 3,
   "metadata": {},
   "outputs": [],
   "source": [
    "file_path_bony = 'C:/Users/valen/OneDrive/Escritorio/Bony/Di tella/TD8FINAL/TD8_ProyectoFinal/mapas/pol.1s.00.xml'\n",
    "polygon, panel_size, restrictions , angulo = xml_data_extractor(file_path_bony)"
   ]
  },
  {
   "cell_type": "code",
   "execution_count": 4,
   "metadata": {},
   "outputs": [
    {
     "name": "stdout",
     "output_type": "stream",
     "text": [
      "1470.0\n",
      "0.7891156462585034\n"
     ]
    }
   ],
   "source": [
    "area_polygon = Polygon(polygon)\n",
    "total_area = area_polygon.area\n",
    "print(total_area)\n",
    "\n",
    "area_covered = 1.16 * 1000\n",
    "print(area_covered/total_area)"
   ]
  },
  {
   "cell_type": "code",
   "execution_count": 5,
   "metadata": {},
   "outputs": [],
   "source": [
    "file_path_bony = 'C:/Users/valen/OneDrive/Escritorio/Bony/Di tella/TD8FINAL/TD8_ProyectoFinal/mapas/pol.02.xml'\n",
    "polygon, panel_size, restrictions , angulo = xml_data_extractor(file_path_bony)"
   ]
  },
  {
   "cell_type": "code",
   "execution_count": 6,
   "metadata": {},
   "outputs": [
    {
     "name": "stdout",
     "output_type": "stream",
     "text": [
      "1279.5\n",
      "0.7815552950371238\n"
     ]
    }
   ],
   "source": [
    "area_polygon = Polygon(polygon)\n",
    "total_area = area_polygon.area\n",
    "print(total_area)\n",
    "\n",
    "area_covered = 1* 1000\n",
    "print(area_covered/total_area)"
   ]
  },
  {
   "cell_type": "code",
   "execution_count": 17,
   "metadata": {},
   "outputs": [],
   "source": [
    "file_path_bony = 'C:/Users/valen/OneDrive/Escritorio/Bony/Di tella/TD8FINAL/TD8_ProyectoFinal/mapas/pol.1s.01.xml'\n",
    "polygon, panel_size, restrictions , angulo = xml_data_extractor(file_path_bony)"
   ]
  },
  {
   "cell_type": "code",
   "execution_count": 18,
   "metadata": {},
   "outputs": [
    {
     "name": "stdout",
     "output_type": "stream",
     "text": [
      "1279.5\n",
      "0.6565064478311841\n"
     ]
    }
   ],
   "source": [
    "area_polygon = Polygon(polygon)\n",
    "total_area = area_polygon.area\n",
    "print(total_area)\n",
    "\n",
    "area_covered = 0.84* 1000\n",
    "print(area_covered/total_area)"
   ]
  },
  {
   "cell_type": "code",
   "execution_count": 55,
   "metadata": {},
   "outputs": [],
   "source": [
    "file_path_bony = 'C:/Users/valen/OneDrive/Escritorio/Bony/Di tella/TD8FINAL/TD8_ProyectoFinal/mapas/pol.s2.07.xml'\n",
    "polygon, panel_size, restrictions , angulo = xml_data_extractor(file_path_bony)"
   ]
  },
  {
   "cell_type": "code",
   "execution_count": 56,
   "metadata": {},
   "outputs": [
    {
     "name": "stdout",
     "output_type": "stream",
     "text": [
      "1279.5\n",
      "0.6252442360296991\n"
     ]
    }
   ],
   "source": [
    "area_polygon = Polygon(polygon)\n",
    "total_area = area_polygon.area\n",
    "print(total_area)\n",
    "\n",
    "area_covered = 0.8* 1000\n",
    "print(area_covered/total_area)"
   ]
  }
 ],
 "metadata": {
  "kernelspec": {
   "display_name": "Python 3",
   "language": "python",
   "name": "python3"
  },
  "language_info": {
   "codemirror_mode": {
    "name": "ipython",
    "version": 3
   },
   "file_extension": ".py",
   "mimetype": "text/x-python",
   "name": "python",
   "nbconvert_exporter": "python",
   "pygments_lexer": "ipython3",
   "version": "3.12.4"
  }
 },
 "nbformat": 4,
 "nbformat_minor": 2
}
