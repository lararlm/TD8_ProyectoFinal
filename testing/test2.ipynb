{
 "cells": [
  {
   "cell_type": "code",
   "execution_count": 1,
   "metadata": {},
   "outputs": [],
   "source": [
    "import sys\n",
    "import os\n",
    "sys.path.append(os.path.abspath(\"C:/Users/valen/OneDrive/Escritorio/Bony/Di tella/TD8FINAL/TD8_ProyectoFinal/\"))\n",
    "from heuristicas.grid_heuristic import grid_heuristic, solve\n",
    "from lectura_and_analisis.xml_parsing import xml_data_extractor\n",
    "from lectura_and_analisis.analisis import calculate_area\n",
    "from lectura_and_analisis.generacion_mapa import fun_generacion_mapa\n",
    "from lectura_and_analisis.optimization_functions import change_dimensions, optimize_area"
   ]
  },
  {
   "cell_type": "code",
   "execution_count": 10,
   "metadata": {},
   "outputs": [],
   "source": [
    "import matplotlib.pyplot as plt\n",
    "from shapely.geometry import Polygon, box, Point\n",
    "from shapely.plotting import plot_polygon\n",
    "import numpy as np"
   ]
  },
  {
   "cell_type": "code",
   "execution_count": 8,
   "metadata": {},
   "outputs": [],
   "source": [
    "file_path_bony = 'C:/Users/valen/OneDrive/Escritorio/Bony/Di tella/TD8FINAL/TD8_ProyectoFinal/mapas/pol.02.xml'\n",
    "polygon, panel_size, restrictions , angulo = xml_data_extractor(file_path_bony)"
   ]
  },
  {
   "cell_type": "code",
   "execution_count": 18,
   "metadata": {},
   "outputs": [
    {
     "name": "stdout",
     "output_type": "stream",
     "text": [
      "[(10.0, 0.0), (0.0, 16.0), (0.0, 29.0), (12.0, 33.0), (33.0, 33.0), (46.0, 16.0), (46.0, 6.0), (38.0, 0.0), (10.0, 0.0)]\n",
      "[<POLYGON ((20 0, 20 5, 10 5, 10 0, 20 0))>, <POLYGON ((30 0, 30 5, 20 5, 20 0, 30 0))>, <POLYGON ((17 5, 17 10, 7 10, 7 5, 17 5))>, <POLYGON ((27 5, 27 10, 17 10, 17 5, 27 5))>, <POLYGON ((37 5, 37 10, 27 10, 27 5, 37 5))>, <POLYGON ((14 10, 14 15, 4 15, 4 10, 14 10))>, <POLYGON ((24 10, 24 15, 14 15, 14 10, 24 10))>, <POLYGON ((34 10, 34 15, 24 15, 24 10, 34 10))>, <POLYGON ((44 10, 44 15, 34 15, 34 10, 44 10))>, <POLYGON ((11 15, 11 20, 1 20, 1 15, 11 15))>, <POLYGON ((21 15, 21 20, 11 20, 11 15, 21 15))>, <POLYGON ((31 15, 31 20, 21 20, 21 15, 31 15))>, <POLYGON ((41 15, 41 20, 31 20, 31 15, 41 15))>, <POLYGON ((10 20, 10 25, 0 25, 0 20, 10 20))>, <POLYGON ((20 20, 20 25, 10 25, 10 20, 20 20))>, <POLYGON ((30 20, 30 25, 20 25, 20 20, 30 20))>, <POLYGON ((13 25, 13 30, 3 30, 3 25, 13 25))>, <POLYGON ((23 25, 23 30, 13 30, 13 25, 23 25))>, <POLYGON ((33 25, 33 30, 23 30, 23 25, 33 25))>]\n"
     ]
    }
   ],
   "source": [
    "rectangles = grid_heuristic(polygon, panel_size, restrictions)\n",
    "fun_generacion_mapa(polygon,restrictions,rectangles,panel_size)\n",
    "len_rectangles = [len(rect) for rect in rectangles]\n",
    "area = calculate_area(polygon,len_rectangles,panel_size)\n",
    "print(len_rectangles)"
   ]
  }
 ],
 "metadata": {
  "kernelspec": {
   "display_name": "Python 3",
   "language": "python",
   "name": "python3"
  },
  "language_info": {
   "codemirror_mode": {
    "name": "ipython",
    "version": 3
   },
   "file_extension": ".py",
   "mimetype": "text/x-python",
   "name": "python",
   "nbconvert_exporter": "python",
   "pygments_lexer": "ipython3",
   "version": "3.12.4"
  }
 },
 "nbformat": 4,
 "nbformat_minor": 2
}
